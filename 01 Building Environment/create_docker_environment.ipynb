{
 "cells": [
  {
   "cell_type": "markdown",
   "metadata": {},
   "source": [
    "# Create Axolotl Docker images\n",
    "\n",
    "At its simples, finetuning a model requires model weights, and a dataset. Although simple conceptually, several questions presents themselves when fine tuning a model:\n",
    "\n",
    "1. Are you starting with a completion model, and fine tuning it further on completion data, such as in the case of Domain Adaptation?\n",
    "2. Are you starting with a completion model, and fine tuning it further with instructions?\n",
    "3. How will you tune the instructions to reflect your user base queries the most appropriately?\n",
    "4. If continually fine tuning, how will you assess your models against catastrophic forgetting?\n",
    "\n",
    "In addition to conceptual questions, several other engineering ones present themselves.\n",
    "1. Will you use LoRA, QLoRA, or any other form of optimization?\n",
    "2. Is your job parallel in nature, and requires distribution?\n",
    "3. Do you need to register your model in MLFlow?\n",
    "\n",
    "To help ease the configuration and execution of finetuning jobs, several frameworks are being developed. One of these frameworks is [Axolotl](https://github.com/OpenAccess-AI-Collective/axolotl) - a tool to streamline the fine-tuning of various AI models, offering support for multiple configurations and architectures. Companies often find themselves running hundreds of finetuning experiments in parallel.\n",
    "\n",
    "## Goal\n",
    "\n",
    "In this notebook, you will create a new curated environment to run Axolotl on Azure.\n",
    "While you only need 1 environment, you will create it twice, for the sake of exploring two different methods to create the environment.\n",
    "When building a docker image to Azure, you will have to decide on a design question around the source of your Docker image. In this instance, you will create a new curated environment based on the Axolotl gold image.\n",
    "\n",
    "In a future instance, you will install Axolotl on an ACPT image. The latter will enable you to leverage features such as [Nebula](https://learn.microsoft.com/en-us/azure/machine-learning/reference-checkpoint-performance-for-large-models?view=azureml-api-2&tabs=PYTORCH). Nebula is a framework that will enable you to book checkpoint speeds and reduce costs."
   ]
  },
  {
   "cell_type": "markdown",
   "metadata": {},
   "source": [
    "###  A | Create a curated environment based on the Axolotl Gold image\n",
    "\n",
    "In the first section of this guide, you will create an environment called \"axolotl_gold\", which is the first option of Docker images. This image is based off the Axolotl gold Image, and is modified to include `azureml-mlflow`.\n",
    "\n",
    "The definition of this simple image will be stored in a DockerFile. The creation of the environment will be performed through the SDK. You only need to run this notebook once to create the environment.\n",
    "\n",
    "Make sure the Jupyter Kernel you select has the Azure ML SDK v2 installed."
   ]
  },
  {
   "cell_type": "code",
   "execution_count": 1,
   "metadata": {},
   "outputs": [
    {
     "data": {
      "text/plain": [
       "Workspace.create(name='aml-au', subscription_id='68092087-0161-4fb5-b51d-32f18ac56bf9', resource_group='aml-au')"
      ]
     },
     "execution_count": 1,
     "metadata": {},
     "output_type": "execute_result"
    }
   ],
   "source": [
    "import azureml.core\n",
    "workspace = azureml.core.Workspace.from_config()\n",
    "workspace"
   ]
  },
  {
   "cell_type": "markdown",
   "metadata": {},
   "source": [
    "The code snippet below will build a new environment in your workspace, assuming the environment doesn't exist yet.\n",
    "The environment will be built based on the docker context, more specifically the contents of the file `src/docker_gold/dockerfile`. As you can see from inspecting this file, this image will be simply based on the master image `winglian/axolotl-cloud:main-latest`.\n",
    "If you wonder where this image name is from: it's from the Axolotl website please [see this link](https://github.com/OpenAccess-AI-Collective/axolotl?tab=readme-ov-file#cloud-gpu).\n",
    "\n",
    "The resulting image will work on Azure, but since it is built from scratch, it will not include any other library found in ACPT.\n",
    "The process will take approximately 12 minutes. During this time, you can see the progress of the build job in the portal by clicking on the link displayed beneath the Jupyter cell."
   ]
  },
  {
   "cell_type": "code",
   "execution_count": null,
   "metadata": {},
   "outputs": [],
   "source": [
    "environment_display_name = 'axolotl_gold'\n",
    "all_environments_in_my_workspace = azureml.core.Environment.list(workspace).keys()\n",
    "if environment_display_name not in all_environments_in_my_workspace:\n",
    "    print(f\"Building {environment_display_name} environment\")\n",
    "    environment = azureml.core.Environment.from_docker_build_context(\n",
    "        name = environment_display_name,\n",
    "        docker_build_context=azureml.core.environment.DockerBuildContext.from_local_directory(\n",
    "            workspace=workspace,\n",
    "            path='src/docker_gold',\n",
    "            dockerfile_path='dockerfile'\n",
    "        )\n",
    "    )\n",
    "    environment = environment.register(workspace).build(workspace).wait_for_completion()\n",
    "else:\n",
    "    print(f\"Environment {environment_display_name} already exists, using it.\")\n",
    "environment = azureml.core.Environment.get(workspace=workspace, name=environment_display_name)"
   ]
  },
  {
   "cell_type": "markdown",
   "metadata": {},
   "source": [
    "### B | Axolotl installed on ACPT\n",
    "\n",
    "An alternative method is to install Axolotl on ACPT. Axolotl requires Pytorch >2 and Python > 3.10.\n",
    "\n",
    "The latest ACPT (beta) mcr.microsoft.com/aifx/acpt/stable-ubuntu2004-cu118-py310-torch220 ships with:\n",
    "- Ubuntu 20.04\n",
    "- CUDA 11.8\n",
    "- Pytorch 2.2.0\n",
    "- DeepSpeed 0.13.4\n",
    "- Nebula 0.16\n"
   ]
  },
  {
   "cell_type": "code",
   "execution_count": null,
   "metadata": {},
   "outputs": [],
   "source": [
    "environment_display_name = 'axolotl_acpt'\n",
    "all_environments_in_my_workspace = azureml.core.Environment.list(workspace).keys()\n",
    "if environment_display_name not in all_environments_in_my_workspace:\n",
    "    print(f\"Building {environment_display_name} environment\")\n",
    "    environment = azureml.core.Environment.from_docker_build_context(\n",
    "        name = environment_display_name,\n",
    "        docker_build_context=azureml.core.environment.DockerBuildContext.from_local_directory(\n",
    "            workspace=workspace,\n",
    "            path='src/docker_axolotl_acpt',\n",
    "            dockerfile_path='dockerfile'\n",
    "        )\n",
    "    )\n",
    "    environment = environment.register(workspace).build(workspace).wait_for_completion()\n",
    "else:\n",
    "    print(f\"Environment {environment_display_name} already exists, using it.\")\n",
    "environment = azureml.core.Environment.get(workspace=workspace, name=environment_display_name)"
   ]
  },
  {
   "cell_type": "markdown",
   "metadata": {},
   "source": [
    "This concludes the first notebook - you should now have up to two environments created, both with Axolotl. The 2nd image is based on ACPT (which contains Nebula) and therefore will be used in the remainder of the notebooks."
   ]
  },
  {
   "cell_type": "code",
   "execution_count": null,
   "metadata": {},
   "outputs": [],
   "source": []
  }
 ],
 "metadata": {
  "kernelspec": {
   "display_name": "azureml_py310_sdkv2",
   "language": "python",
   "name": "python3"
  },
  "language_info": {
   "codemirror_mode": {
    "name": "ipython",
    "version": 3
   },
   "file_extension": ".py",
   "mimetype": "text/x-python",
   "name": "python",
   "nbconvert_exporter": "python",
   "pygments_lexer": "ipython3",
   "version": "3.10.11"
  }
 },
 "nbformat": 4,
 "nbformat_minor": 2
}
