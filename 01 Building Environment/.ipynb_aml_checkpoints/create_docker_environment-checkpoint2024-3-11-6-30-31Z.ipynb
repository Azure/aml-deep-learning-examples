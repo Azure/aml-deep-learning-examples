{
  "cells": [
    {
      "cell_type": "markdown",
      "metadata": {},
      "source": [
        "# Create Azure curated environment\n",
        "\n",
        "At its simples, finetuning a model requires model weights, and a dataset. You configure hyperparameters related to the training job and need to monitor it as it progresses. You also want to enable optimizatioins to make your training faster. Although simple conceptually, several questions presents themselves when fine tuning a model:\n",
        "\n",
        "1. Are you starting with a completion model, and fine tuning it further on completion data, such as in the case of Domain Adaptation?\n",
        "2. Are you starting with a completion model, and fine tuning it further with instructions?\n",
        "3. How will you tune the instructions to reflect your user base queries the most appropriately?\n",
        "4. If continually fine tuning, how will you assess your models against catastrophic forgetting?\n",
        "5. How can you optimize the training job to conclude the fastest?\n",
        "\n",
        "In addition to conceptual questions, several other engineering ones present themselves.\n",
        "1. Will you use LoRA, QLoRA, or any other form of optimization?\n",
        "2. Is your job parallel in nature, and requires distribution?\n",
        "3. Do you need to register your model in MLFlow?\n",
        "\n",
        "To help ease the configuration and execution of finetuning jobs, several frameworks are being developed. One of these frameworks is [Axolotl](https://github.com/OpenAccess-AI-Collective/axolotl) - a tool to streamline the fine-tuning of various AI models, offering support for multiple configurations and architectures. Companies often find themselves running hundreds of finetuning experiments in parallel (on different internal datasets, with different hyperparameters, on different model architectures).\n",
        "\n",
        "## Goal of this notebook\n",
        "\n",
        "In this notebook, you will create a new [Azure curated environment](https://learn.microsoft.com/en-us/azure/machine-learning/resource-curated-environments?view=azureml-api-2) to run Axolotl on Azure.\n",
        "The reason you build your curated environmented is to further reduce training and deployment latency: You will define the python packages and software settings around training and scoring.\n",
        "More specifically, you will:\n",
        "\n",
        "1. connect to an AzureML workspace using the Python SDK v2.\n",
        "2. Build a new curated environment based on a `dockerfile` that has been provided, which is based on the latest ACPT images. You will do this because in future notebooks, you will experiment with [Nebula](https://learn.microsoft.com/en-us/azure/machine-learning/reference-checkpoint-performance-for-large-models?view=azureml-api-2&tabs=PYTORCH). `Nebula` is not available in the Pypi package index, and only ships with ACPT.\n",
        "3. Install `azureml-mlflow` and `mlflow` and patch them to integrate Axolotl with AzureML MLFlow. The patch has been provided to you and is part of the Docker build process."
      ]
    },
    {
      "cell_type": "markdown",
      "metadata": {},
      "source": [
        "###  A | Connecting to your workspace\n",
        "\n",
        "First of all, you will use the Azure ML Python SDK to connect to your AML workspace. If you are running this notebook on a compute instance running on Azure, you can use the `azureml_py310_sdkv2` to execute the cells below."
      ]
    },
    {
      "cell_type": "code",
      "execution_count": null,
      "metadata": {
        "gather": {
          "logged": 1712654138265
        }
      },
      "outputs": [],
      "source": [
        "import azureml.core\n",
        "workspace = azureml.core.Workspace.from_config()\n",
        "workspace"
      ]
    },
    {
      "cell_type": "markdown",
      "metadata": {},
      "source": [
        "Now that you are connected to the correct workspace, Run the cells below to build your curated environment, which will be built based on the docker context, more specifically the contents of the file `src/docker_axolotl_acpt/dockerfile`. \n",
        "The latest ACPT (beta) mcr.microsoft.com/aifx/acpt/stable-ubuntu2004-cu118-py310-torch220 ships with:\n",
        "\n",
        "- Ubuntu 20.04\n",
        "- CUDA 11.8\n",
        "- Pytorch 2.2.0\n",
        "- DeepSpeed 0.13.4\n",
        "- Nebula 0.16\n",
        "\n",
        "The process will take approximately 12 minutes. During this time, you can see the progress of the build job in the portal by clicking on the link displayed beneath the Jupyter cell."
      ]
    },
    {
      "cell_type": "code",
      "execution_count": null,
      "metadata": {
        "gather": {
          "logged": 1712655313397
        }
      },
      "outputs": [],
      "source": [
        "environment_display_name = 'axolotl_acpt'\n",
        "all_environments_in_my_workspace = azureml.core.Environment.list(workspace).keys()\n",
        "\n",
        "print(f\"Building {environment_display_name} environment\")\n",
        "environment = azureml.core.Environment.from_docker_build_context(\n",
        "    name = environment_display_name,\n",
        "    docker_build_context=azureml.core.environment.DockerBuildContext.from_local_directory(\n",
        "        workspace=workspace,\n",
        "        path='src/docker_axolotl_acpt',\n",
        "        dockerfile_path='dockerfile'\n",
        "    )\n",
        ")\n",
        "environment = environment.register(workspace).build(workspace).wait_for_completion()\n",
        "\n",
        "environment = azureml.core.Environment.get(workspace=workspace, name=environment_display_name)"
      ]
    },
    {
      "cell_type": "markdown",
      "metadata": {},
      "source": [
        "This concludes the first notebook - you should now have have a curated environment that includes Axolotl on ACPT"
      ]
    },
    {
      "cell_type": "code",
      "execution_count": null,
      "metadata": {},
      "outputs": [],
      "source": []
    }
  ],
  "metadata": {
    "kernel_info": {
      "name": "python310-sdkv2"
    },
    "kernelspec": {
      "display_name": "azureml_py310_sdkv2",
      "language": "python",
      "name": "python3"
    },
    "language_info": {
      "codemirror_mode": {
        "name": "ipython",
        "version": 3
      },
      "file_extension": ".py",
      "mimetype": "text/x-python",
      "name": "python",
      "nbconvert_exporter": "python",
      "pygments_lexer": "ipython3",
      "version": "3.10.11"
    },
    "microsoft": {
      "host": {
        "AzureML": {
          "notebookHasBeenCompleted": true
        }
      },
      "ms_spell_check": {
        "ms_spell_check_language": "en"
      }
    },
    "nteract": {
      "version": "nteract-front-end@1.0.0"
    }
  },
  "nbformat": 4,
  "nbformat_minor": 2
}
