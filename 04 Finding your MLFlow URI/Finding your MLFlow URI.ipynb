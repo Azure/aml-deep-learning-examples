{
 "cells": [
  {
   "cell_type": "markdown",
   "metadata": {},
   "source": [
    "# Finding your MLFlow URI\n",
    "\n",
    "In the previous notebook, you have learnt how to finetune an existing model (Phi1) on a dataset for a single epoch. The model that you've built was stored locally on disk in a folder called `output_dir` (the name of the folder differs depending on the configuration YML file you use).\n",
    "\n",
    "To properly track your experiments, you will instead need to leverage MLFlow. MLFlow enables you to do model tracking and registration, enabling you to use tracked models in downstream processes.\n",
    "\n",
    "## Goal\n",
    "\n",
    "The configuration of MLFlow is quite simple: with Axolotl, you need to simplyl point out to an MLFlow URI, which is specific to your workspace.\n",
    "\n",
    "In this notebook, you will extract the MLFlow URI using the SDK. You will then use this information in future notebooks to integrate Axolotl with MLFlow.\n",
    "\n",
    "> Note: Retrieving the MLFlow URI is an operation that requires login to Azure. If you are running this notebook interactively, you can leverage the `DefaultAzureCredential()` method to authenticate. If you intend on running this code in a headless configuration (an AzureML component, or a serverless deployment) consider changing the authentication method to a non-interactive one. Alternative methods to retrieve your MLFlow URI can be found [on this link](https://learn.microsoft.com/en-us/azure/machine-learning/how-to-use-mlflow-configure-tracking?view=azureml-api-2&tabs=python%2Cmlflow)."
   ]
  },
  {
   "cell_type": "code",
   "execution_count": 1,
   "metadata": {},
   "outputs": [
    {
     "name": "stderr",
     "output_type": "stream",
     "text": [
      "Found the config file in: /config.json\n"
     ]
    }
   ],
   "source": [
    "from azure.ai.ml import MLClient\n",
    "from azure.identity import DefaultAzureCredential\n",
    "\n",
    "ml_client = MLClient.from_config(credential=DefaultAzureCredential())"
   ]
  },
  {
   "cell_type": "code",
   "execution_count": 3,
   "metadata": {},
   "outputs": [
    {
     "name": "stdout",
     "output_type": "stream",
     "text": [
      "azureml://australiaeast.api.azureml.ms/mlflow/v1.0/subscriptions/68092087-0161-4fb5-b51d-32f18ac56bf9/resourceGroups/aml-au/providers/Microsoft.MachineLearningServices/workspaces/aml-au\n"
     ]
    }
   ],
   "source": [
    "mlflow_tracking_uri = ml_client.workspaces.get(ml_client.workspace_name).mlflow_tracking_uri\n",
    "print(mlflow_tracking_uri)"
   ]
  },
  {
   "cell_type": "code",
   "execution_count": null,
   "metadata": {},
   "outputs": [],
   "source": []
  }
 ],
 "metadata": {
  "kernelspec": {
   "display_name": "azureml_py310_sdkv2",
   "language": "python",
   "name": "python3"
  },
  "language_info": {
   "codemirror_mode": {
    "name": "ipython",
    "version": 3
   },
   "file_extension": ".py",
   "mimetype": "text/x-python",
   "name": "python",
   "nbconvert_exporter": "python",
   "pygments_lexer": "ipython3",
   "version": "3.10.11"
  }
 },
 "nbformat": 4,
 "nbformat_minor": 2
}
